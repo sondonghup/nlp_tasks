{
 "cells": [
  {
   "attachments": {},
   "cell_type": "markdown",
   "metadata": {},
   "source": [
    "## nltk와 spacy의 ner을 한번 비교 해보고 apis로 띄워보자"
   ]
  },
  {
   "attachments": {},
   "cell_type": "markdown",
   "metadata": {},
   "source": [
    "### nltk ner"
   ]
  },
  {
   "cell_type": "code",
   "execution_count": 15,
   "metadata": {},
   "outputs": [],
   "source": [
    "import nltk"
   ]
  },
  {
   "cell_type": "code",
   "execution_count": 2,
   "metadata": {},
   "outputs": [
    {
     "data": {
      "text/plain": [
       "True"
      ]
     },
     "execution_count": 2,
     "metadata": {},
     "output_type": "execute_result"
    }
   ],
   "source": [
    "nltk.download(\"all\", quiet=True)"
   ]
  },
  {
   "cell_type": "code",
   "execution_count": 16,
   "metadata": {},
   "outputs": [
    {
     "name": "stdout",
     "output_type": "stream",
     "text": [
      "[('Jim', 'NNP'), ('bought', 'VBD'), ('300', 'CD'), ('shares', 'NNS'), ('of', 'IN'), ('Acme', 'NNP'), ('Corp.', 'NNP'), ('in', 'IN'), ('2006', 'CD'), ('.', '.')]\n"
     ]
    }
   ],
   "source": [
    "from nltk import word_tokenize, pos_tag, ne_chunk\n",
    "sentence = \"Jim bought 300 shares of Acme Corp. in 2006.\"\n",
    "sentence = pos_tag(word_tokenize(sentence))\n",
    "print(sentence)"
   ]
  },
  {
   "cell_type": "code",
   "execution_count": 60,
   "metadata": {},
   "outputs": [
    {
     "name": "stdout",
     "output_type": "stream",
     "text": [
      "(S\n",
      "  (PERSON Jim/NNP)\n",
      "  bought/VBD\n",
      "  300/CD\n",
      "  shares/NNS\n",
      "  of/IN\n",
      "  (ORGANIZATION Acme/NNP Corp./NNP)\n",
      "  in/IN\n",
      "  2006/CD\n",
      "  ./.)\n"
     ]
    }
   ],
   "source": [
    "chunk_sentence = ne_chunk(sentence)\n",
    "print(chunk_sentence)"
   ]
  },
  {
   "attachments": {},
   "cell_type": "markdown",
   "metadata": {},
   "source": [
    "### spacy ner"
   ]
  },
  {
   "cell_type": "code",
   "execution_count": 74,
   "metadata": {},
   "outputs": [
    {
     "data": {
      "text/plain": [
       "True"
      ]
     },
     "execution_count": 74,
     "metadata": {},
     "output_type": "execute_result"
    }
   ],
   "source": [
    "import spacy\n",
    "from collections import Counter\n",
    "import en_core_web_sm\n",
    "nlp = spacy.load(\"en_core_web_sm\")\n",
    "spacy.prefer_gpu()"
   ]
  },
  {
   "cell_type": "code",
   "execution_count": 102,
   "metadata": {},
   "outputs": [
    {
     "name": "stdout",
     "output_type": "stream",
     "text": [
      "[['Jim', 'PERSON'], ['300', 'CARDINAL'], ['Acme Corp.', 'ORG'], ['2006', 'DATE']]\n"
     ]
    }
   ],
   "source": [
    "doc = nlp(\"Jim bought 300 shares of Acme Corp. in 2006.\")\n",
    "result = []\n",
    "for entity in doc.ents:\n",
    "    result.append([entity.text, entity.label_])\n",
    "print(result)\n"
   ]
  },
  {
   "attachments": {},
   "cell_type": "markdown",
   "metadata": {},
   "source": [
    "### spacy ner을 fast api로 띄우기"
   ]
  },
  {
   "cell_type": "code",
   "execution_count": 156,
   "metadata": {},
   "outputs": [
    {
     "name": "stdout",
     "output_type": "stream",
     "text": [
      "{'result': {'inputs': 'Jim bought 300 shares of Acme Corp. in 2006.', 'ner': {'input_ids': {}, 'token_type_ids': {}, 'attention_mask': {}}}, 'error': None}\n"
     ]
    }
   ],
   "source": [
    "import requests\n",
    "\n",
    "response = requests.post(\n",
    "    url = 'http://127.0.0.1:8000/kor_ner',\n",
    "    json = {\n",
    "        \"user_input\": \"Jim bought 300 shares of Acme Corp. in 2006.\"\n",
    "    }\n",
    ")\n",
    "print(response.json())"
   ]
  },
  {
   "cell_type": "markdown",
   "metadata": {},
   "source": []
  },
  {
   "cell_type": "code",
   "execution_count": 172,
   "metadata": {},
   "outputs": [
    {
     "name": "stdout",
     "output_type": "stream",
     "text": [
      "{'result': {'input_ids': {}, 'token_type_ids': {}, 'attention_mask': {}}}\n"
     ]
    }
   ],
   "source": [
    "import requests\n",
    "\n",
    "response = requests.post(\n",
    "    url = 'http://127.0.0.1:8000/kor_ner',\n",
    "    json = {\n",
    "        \"text\": \"손흥민이 콜로세움에 갔다\"\n",
    "    }\n",
    ")\n",
    "print(response.json())"
   ]
  },
  {
   "cell_type": "code",
   "execution_count": 145,
   "metadata": {},
   "outputs": [],
   "source": [
    "import torch\n",
    "from transformers import (\n",
    "    AutoTokenizer,\n",
    "    ElectraForTokenClassification,\n",
    "    BertForSequenceClassification\n",
    ")"
   ]
  },
  {
   "cell_type": "code",
   "execution_count": 143,
   "metadata": {},
   "outputs": [],
   "source": [
    "NAME = 'sgunderscore/hatescore-korean-hate-speech'"
   ]
  },
  {
   "cell_type": "code",
   "execution_count": 146,
   "metadata": {},
   "outputs": [
    {
     "data": {
      "application/vnd.jupyter.widget-view+json": {
       "model_id": "9d472324d2c54e719edaf67e1d0b4646",
       "version_major": 2,
       "version_minor": 0
      },
      "text/plain": [
       "Downloading (…)\"pytorch_model.bin\";:   0%|          | 0.00/436M [00:00<?, ?B/s]"
      ]
     },
     "metadata": {},
     "output_type": "display_data"
    }
   ],
   "source": [
    "tokenizer = AutoTokenizer.from_pretrained(NAME)\n",
    "model = BertForSequenceClassification.from_pretrained(NAME)"
   ]
  },
  {
   "cell_type": "code",
   "execution_count": 147,
   "metadata": {},
   "outputs": [],
   "source": [
    "sent = \"손흥민이 나랑 축구를 하고 싶다고 해서 서울로 왔다\""
   ]
  },
  {
   "cell_type": "code",
   "execution_count": 151,
   "metadata": {},
   "outputs": [],
   "source": [
    "sent = \"아 시발 개 족같은 련아\""
   ]
  },
  {
   "cell_type": "code",
   "execution_count": 183,
   "metadata": {},
   "outputs": [
    {
     "name": "stdout",
     "output_type": "stream",
     "text": [
      "['아', '시발', '개', '족', '##같은', '련', '##아']\n",
      "{'input_ids': tensor([[    2,  2170, 13552,   220,  2573,  8036,  1184,  4085,     3]]), 'token_type_ids': tensor([[0, 0, 0, 0, 0, 0, 0, 0, 0]]), 'attention_mask': tensor([[1, 1, 1, 1, 1, 1, 1, 1, 1]])}\n"
     ]
    },
    {
     "ename": "AttributeError",
     "evalue": "'Tensor' object has no attribute 'logits'",
     "output_type": "error",
     "traceback": [
      "\u001b[0;31m---------------------------------------------------------------------------\u001b[0m",
      "\u001b[0;31mAttributeError\u001b[0m                            Traceback (most recent call last)",
      "\u001b[1;32m/Users/sondonghyeob/Downloads/study/nlp_tasks/section2/practice2.ipynb 셀 19\u001b[0m in \u001b[0;36m<cell line: 5>\u001b[0;34m()\u001b[0m\n\u001b[1;32m      <a href='vscode-notebook-cell:/Users/sondonghyeob/Downloads/study/nlp_tasks/section2/practice2.ipynb#X22sZmlsZQ%3D%3D?line=2'>3</a>\u001b[0m \u001b[39mprint\u001b[39m(tokenized_sent)\n\u001b[1;32m      <a href='vscode-notebook-cell:/Users/sondonghyeob/Downloads/study/nlp_tasks/section2/practice2.ipynb#X22sZmlsZQ%3D%3D?line=3'>4</a>\u001b[0m result \u001b[39m=\u001b[39m model(\u001b[39m*\u001b[39m\u001b[39m*\u001b[39mtokenized_sent)\u001b[39m.\u001b[39mlogits\n\u001b[0;32m----> <a href='vscode-notebook-cell:/Users/sondonghyeob/Downloads/study/nlp_tasks/section2/practice2.ipynb#X22sZmlsZQ%3D%3D?line=4'>5</a>\u001b[0m \u001b[39mprint\u001b[39m(result\u001b[39m.\u001b[39;49mlogits)\n\u001b[1;32m      <a href='vscode-notebook-cell:/Users/sondonghyeob/Downloads/study/nlp_tasks/section2/practice2.ipynb#X22sZmlsZQ%3D%3D?line=5'>6</a>\u001b[0m result \u001b[39m=\u001b[39m torch\u001b[39m.\u001b[39margmax(result\u001b[39m.\u001b[39mcpu()\u001b[39m.\u001b[39mdetach(), axis \u001b[39m=\u001b[39m \u001b[39m-\u001b[39m\u001b[39m1\u001b[39m)\n\u001b[1;32m      <a href='vscode-notebook-cell:/Users/sondonghyeob/Downloads/study/nlp_tasks/section2/practice2.ipynb#X22sZmlsZQ%3D%3D?line=6'>7</a>\u001b[0m \u001b[39mprint\u001b[39m(result)\n",
      "\u001b[0;31mAttributeError\u001b[0m: 'Tensor' object has no attribute 'logits'"
     ]
    }
   ],
   "source": [
    "tokenized_sent = tokenizer(sent, truncation = True, return_tensors=\"pt\")\n",
    "print(tokenized_sent[0].tokens[1:-1])\n",
    "print(tokenized_sent)\n",
    "result = model(**tokenized_sent).logits\n",
    "print(result)\n",
    "result = torch.argmax(result.cpu().detach(), axis = -1)\n",
    "print(result)\n",
    "for token, ner in zip(tokenized_sent[0].tokens, result):\n",
    "    print(token, ner.numpy())"
   ]
  },
  {
   "cell_type": "code",
   "execution_count": 177,
   "metadata": {},
   "outputs": [
    {
     "name": "stdout",
     "output_type": "stream",
     "text": [
      "Sentiment:  {}\n"
     ]
    }
   ],
   "source": [
    "import requests\n",
    "\n",
    "url = \"http://localhost:8000/analyze_sentiment\"\n",
    "data = {\"text\": \"손흥민이 축구를 한다.\"}\n",
    "response = requests.post(url, json=data)\n",
    "\n",
    "if response.ok:\n",
    "    result = response.json()\n",
    "    print(\"Sentiment: \", result[\"sentiment\"])\n",
    "else:\n",
    "    print(\"Error:\", response.status_code, response.text)"
   ]
  }
 ],
 "metadata": {
  "kernelspec": {
   "display_name": "acer_ipynb",
   "language": "python",
   "name": "acer_ipynb"
  },
  "language_info": {
   "codemirror_mode": {
    "name": "ipython",
    "version": 3
   },
   "file_extension": ".py",
   "mimetype": "text/x-python",
   "name": "python",
   "nbconvert_exporter": "python",
   "pygments_lexer": "ipython3",
   "version": "3.9.13"
  },
  "orig_nbformat": 4,
  "vscode": {
   "interpreter": {
    "hash": "31f2aee4e71d21fbe5cf8b01ff0e069b9275f58929596ceb00d14d90e3e16cd6"
   }
  }
 },
 "nbformat": 4,
 "nbformat_minor": 2
}
