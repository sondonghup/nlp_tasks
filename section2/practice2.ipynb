{
 "cells": [
  {
   "cell_type": "code",
   "execution_count": 15,
   "metadata": {},
   "outputs": [],
   "source": [
    "import nltk"
   ]
  },
  {
   "cell_type": "code",
   "execution_count": 2,
   "metadata": {},
   "outputs": [
    {
     "data": {
      "text/plain": [
       "True"
      ]
     },
     "execution_count": 2,
     "metadata": {},
     "output_type": "execute_result"
    }
   ],
   "source": [
    "nltk.download(\"all\", quiet=True)"
   ]
  },
  {
   "cell_type": "code",
   "execution_count": 16,
   "metadata": {},
   "outputs": [
    {
     "name": "stdout",
     "output_type": "stream",
     "text": [
      "[('Jim', 'NNP'), ('bought', 'VBD'), ('300', 'CD'), ('shares', 'NNS'), ('of', 'IN'), ('Acme', 'NNP'), ('Corp.', 'NNP'), ('in', 'IN'), ('2006', 'CD'), ('.', '.')]\n"
     ]
    }
   ],
   "source": [
    "from nltk import word_tokenize, pos_tag, ne_chunk\n",
    "sentence = \"Jim bought 300 shares of Acme Corp. in 2006.\"\n",
    "sentence = pos_tag(word_tokenize(sentence))\n",
    "print(sentence)"
   ]
  },
  {
   "cell_type": "code",
   "execution_count": 60,
   "metadata": {},
   "outputs": [
    {
     "name": "stdout",
     "output_type": "stream",
     "text": [
      "(S\n",
      "  (PERSON Jim/NNP)\n",
      "  bought/VBD\n",
      "  300/CD\n",
      "  shares/NNS\n",
      "  of/IN\n",
      "  (ORGANIZATION Acme/NNP Corp./NNP)\n",
      "  in/IN\n",
      "  2006/CD\n",
      "  ./.)\n"
     ]
    }
   ],
   "source": [
    "chunk_sentence = ne_chunk(sentence)\n",
    "print(chunk_sentence)"
   ]
  },
  {
   "cell_type": "code",
   "execution_count": 74,
   "metadata": {},
   "outputs": [
    {
     "data": {
      "text/plain": [
       "True"
      ]
     },
     "execution_count": 74,
     "metadata": {},
     "output_type": "execute_result"
    }
   ],
   "source": [
    "import spacy\n",
    "from collections import Counter\n",
    "import en_core_web_sm\n",
    "nlp = spacy.load(\"en_core_web_sm\")\n",
    "spacy.prefer_gpu()"
   ]
  },
  {
   "cell_type": "code",
   "execution_count": 68,
   "metadata": {},
   "outputs": [
    {
     "name": "stdout",
     "output_type": "stream",
     "text": [
      "\u001b[31mERROR: Could not find a version that satisfies the requirement en_core_web_sm (from versions: none)\u001b[0m\u001b[31m\n",
      "\u001b[0m\u001b[31mERROR: No matching distribution found for en_core_web_sm\u001b[0m\u001b[31m\n",
      "\u001b[0m"
     ]
    }
   ],
   "source": [
    "!pip install en_core_web_sm"
   ]
  },
  {
   "cell_type": "code",
   "execution_count": 86,
   "metadata": {},
   "outputs": [
    {
     "name": "stdout",
     "output_type": "stream",
     "text": [
      "<class 'str'>\n",
      "<class 'str'>\n"
     ]
    },
    {
     "ename": "AttributeError",
     "evalue": "'tuple' object has no attribute 'append'",
     "output_type": "error",
     "traceback": [
      "\u001b[0;31m---------------------------------------------------------------------------\u001b[0m",
      "\u001b[0;31mAttributeError\u001b[0m                            Traceback (most recent call last)",
      "\u001b[1;32m/Users/sondonghyeob/Downloads/study/udemy_nlp_first/section2/practice2.ipynb 셀 7\u001b[0m in \u001b[0;36m<cell line: 2>\u001b[0;34m()\u001b[0m\n\u001b[1;32m      <a href='vscode-notebook-cell:/Users/sondonghyeob/Downloads/study/udemy_nlp_first/section2/practice2.ipynb#X23sZmlsZQ%3D%3D?line=2'>3</a>\u001b[0m     \u001b[39mprint\u001b[39m(\u001b[39mtype\u001b[39m(entity\u001b[39m.\u001b[39mtext))\n\u001b[1;32m      <a href='vscode-notebook-cell:/Users/sondonghyeob/Downloads/study/udemy_nlp_first/section2/practice2.ipynb#X23sZmlsZQ%3D%3D?line=3'>4</a>\u001b[0m     \u001b[39mprint\u001b[39m(\u001b[39mtype\u001b[39m(entity\u001b[39m.\u001b[39mlabel_))\n\u001b[0;32m----> <a href='vscode-notebook-cell:/Users/sondonghyeob/Downloads/study/udemy_nlp_first/section2/practice2.ipynb#X23sZmlsZQ%3D%3D?line=4'>5</a>\u001b[0m     result\u001b[39m.\u001b[39;49mappend(entity\u001b[39m.\u001b[39mtext\u001b[39m+\u001b[39m\u001b[39m'\u001b[39m\u001b[39m/\u001b[39m\u001b[39m'\u001b[39m\u001b[39m+\u001b[39mentity\u001b[39m.\u001b[39mlabel_)\n\u001b[1;32m      <a href='vscode-notebook-cell:/Users/sondonghyeob/Downloads/study/udemy_nlp_first/section2/practice2.ipynb#X23sZmlsZQ%3D%3D?line=5'>6</a>\u001b[0m \u001b[39mprint\u001b[39m(result)\n",
      "\u001b[0;31mAttributeError\u001b[0m: 'tuple' object has no attribute 'append'"
     ]
    }
   ],
   "source": [
    "doc = nlp(\"Jim bought 300 shares of Acme Corp. in 2006.\")\n",
    "for entity in doc.ents:\n",
    "    print(type(entity.text))\n",
    "    print(type(entity.label_))\n",
    "    result.append(entity.text+'/'+entity.label_)\n",
    "print(result)\n"
   ]
  },
  {
   "cell_type": "code",
   "execution_count": 70,
   "metadata": {},
   "outputs": [
    {
     "ename": "AttributeError",
     "evalue": "'str' object has no attribute 'ent_iob_'",
     "output_type": "error",
     "traceback": [
      "\u001b[0;31m---------------------------------------------------------------------------\u001b[0m",
      "\u001b[0;31mAttributeError\u001b[0m                            Traceback (most recent call last)",
      "\u001b[1;32m/Users/sondonghyeob/Downloads/study/udemy_nlp_first/section2/practice2.ipynb 셀 8\u001b[0m in \u001b[0;36m<cell line: 1>\u001b[0;34m()\u001b[0m\n\u001b[0;32m----> <a href='vscode-notebook-cell:/Users/sondonghyeob/Downloads/study/udemy_nlp_first/section2/practice2.ipynb#X24sZmlsZQ%3D%3D?line=0'>1</a>\u001b[0m \u001b[39mprint\u001b[39m([x\u001b[39m.\u001b[39ment_iob_ \u001b[39mfor\u001b[39;00m x \u001b[39min\u001b[39;00m sentence])\n",
      "\u001b[1;32m/Users/sondonghyeob/Downloads/study/udemy_nlp_first/section2/practice2.ipynb 셀 8\u001b[0m in \u001b[0;36m<listcomp>\u001b[0;34m(.0)\u001b[0m\n\u001b[0;32m----> <a href='vscode-notebook-cell:/Users/sondonghyeob/Downloads/study/udemy_nlp_first/section2/practice2.ipynb#X24sZmlsZQ%3D%3D?line=0'>1</a>\u001b[0m \u001b[39mprint\u001b[39m([x\u001b[39m.\u001b[39;49ment_iob_ \u001b[39mfor\u001b[39;00m x \u001b[39min\u001b[39;00m sentence])\n",
      "\u001b[0;31mAttributeError\u001b[0m: 'str' object has no attribute 'ent_iob_'"
     ]
    }
   ],
   "source": [
    "print([x.ent_iob_ for x in sentence])"
   ]
  },
  {
   "cell_type": "code",
   "execution_count": 58,
   "metadata": {},
   "outputs": [
    {
     "name": "stdout",
     "output_type": "stream",
     "text": [
      "(PERSON Jim/NNP)\n",
      "(ORGANIZATION Acme/NNP Corp./NNP)\n"
     ]
    }
   ],
   "source": [
    "for result in chunk_sentence:\n",
    "    if isinstance(result, tuple) != True:\n",
    "        print(result)\n",
    "    # if len(result) == 1:\n",
    "    #     print(result)\n",
    "    # else:\n",
    "    #     print(result)"
   ]
  },
  {
   "cell_type": "code",
   "execution_count": 56,
   "metadata": {},
   "outputs": [
    {
     "name": "stdout",
     "output_type": "stream",
     "text": [
      "(PERSON Jim/NNP)\n",
      "('Jim', 'NNP')\n",
      "(ORGANIZATION Acme/NNP Corp./NNP)\n",
      "('Acme', 'NNP')\n",
      "('Corp.', 'NNP')\n"
     ]
    }
   ],
   "source": [
    "\n",
    "result = []\n",
    "for ner_result in chunk_sentence:\n",
    "    if isinstance(ner_result, tuple) != True:\n",
    "        print(ner_result)\n",
    "        for ner in ner_result:\n",
    "            print(ner)\n",
    "            result.append([ner_result[0], ner])\n"
   ]
  },
  {
   "cell_type": "code",
   "execution_count": 47,
   "metadata": {},
   "outputs": [
    {
     "name": "stdout",
     "output_type": "stream",
     "text": [
      "[[('Jim', 'NNP'), ('Jim', 'NNP')], [('Acme', 'NNP'), ('Acme', 'NNP')], [('Acme', 'NNP'), ('Corp.', 'NNP')]]\n"
     ]
    }
   ],
   "source": [
    "print(result)"
   ]
  },
  {
   "cell_type": "code",
   "execution_count": 11,
   "metadata": {},
   "outputs": [
    {
     "name": "stdout",
     "output_type": "stream",
     "text": [
      "[('acer', 'NN'), ('born', 'VBN'), ('in', 'IN'), ('march', 'NN'), ('1997', 'CD'), ('and', 'CC'), ('he', 'PRP'), ('began', 'VBD'), ('to', 'TO'), ('learn', 'VB'), ('nlp_task', 'NN'), ('after', 'IN'), ('26', 'CD')]\n"
     ]
    }
   ],
   "source": [
    "sentence = \"acer born in march 1997 and he began to learn nlp_task after 26\"\n",
    "ner_sentence = pos_tag(word_tokenize(sentence))\n",
    "print(ner_sentence)\n"
   ]
  },
  {
   "cell_type": "code",
   "execution_count": null,
   "metadata": {},
   "outputs": [],
   "source": []
  },
  {
   "cell_type": "code",
   "execution_count": null,
   "metadata": {},
   "outputs": [],
   "source": []
  },
  {
   "cell_type": "code",
   "execution_count": null,
   "metadata": {},
   "outputs": [],
   "source": []
  },
  {
   "cell_type": "code",
   "execution_count": null,
   "metadata": {},
   "outputs": [],
   "source": []
  },
  {
   "cell_type": "code",
   "execution_count": null,
   "metadata": {},
   "outputs": [],
   "source": []
  },
  {
   "cell_type": "code",
   "execution_count": null,
   "metadata": {},
   "outputs": [],
   "source": []
  }
 ],
 "metadata": {
  "kernelspec": {
   "display_name": "acer_ipynb",
   "language": "python",
   "name": "acer_ipynb"
  },
  "language_info": {
   "codemirror_mode": {
    "name": "ipython",
    "version": 3
   },
   "file_extension": ".py",
   "mimetype": "text/x-python",
   "name": "python",
   "nbconvert_exporter": "python",
   "pygments_lexer": "ipython3",
   "version": "3.9.13"
  },
  "orig_nbformat": 4,
  "vscode": {
   "interpreter": {
    "hash": "31f2aee4e71d21fbe5cf8b01ff0e069b9275f58929596ceb00d14d90e3e16cd6"
   }
  }
 },
 "nbformat": 4,
 "nbformat_minor": 2
}
